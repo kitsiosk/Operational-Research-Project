{
 "cells": [
  {
   "cell_type": "code",
   "execution_count": 2,
   "metadata": {},
   "outputs": [],
   "source": [
    "from __future__ import division\n",
    "from pyomo.environ import *\n",
    "import numpy as np"
   ]
  },
  {
   "cell_type": "markdown",
   "metadata": {},
   "source": [
    "## Model\n",
    "___"
   ]
  },
  {
   "cell_type": "code",
   "execution_count": 3,
   "metadata": {},
   "outputs": [],
   "source": [
    "# Define abstract model\n",
    "model = ConcreteModel()"
   ]
  },
  {
   "cell_type": "markdown",
   "metadata": {},
   "source": [
    "## Variables\n",
    "___"
   ]
  },
  {
   "cell_type": "code",
   "execution_count": 4,
   "metadata": {},
   "outputs": [],
   "source": [
    "# I ranges from 1 to 18\n",
    "model.N = 18\n",
    "model.I = RangeSet(1, model.N)"
   ]
  },
  {
   "cell_type": "code",
   "execution_count": 5,
   "metadata": {},
   "outputs": [],
   "source": [
    "# II ranges from 1 to 9\n",
    "model.n = 9\n",
    "model.II = RangeSet(1, model.n)"
   ]
  },
  {
   "cell_type": "code",
   "execution_count": 6,
   "metadata": {},
   "outputs": [],
   "source": [
    "model.J = RangeSet(1, model.n - 1)"
   ]
  },
  {
   "cell_type": "code",
   "execution_count": 7,
   "metadata": {},
   "outputs": [],
   "source": [
    "# x is the weekly supply\n",
    "model.x = Var(model.I, domain=NonNegativeIntegers)"
   ]
  },
  {
   "cell_type": "code",
   "execution_count": 8,
   "metadata": {},
   "outputs": [],
   "source": [
    "# m is the max between the two types each week\n",
    "model.m = Var(model.II, domain=NonNegativeIntegers)"
   ]
  },
  {
   "cell_type": "code",
   "execution_count": 9,
   "metadata": {},
   "outputs": [],
   "source": [
    "# b is boolean: 0=> typeA | 1=> typeB\n",
    "model.b = Var(model.II, domain=Binary)"
   ]
  },
  {
   "cell_type": "code",
   "execution_count": 10,
   "metadata": {},
   "outputs": [],
   "source": [
    "# x is boolean: The XOR of b_i and b_(i-1) implemented with max\n",
    "model.c = Var(model.II, domain=Binary)"
   ]
  },
  {
   "cell_type": "markdown",
   "metadata": {},
   "source": [
    "## Parameters\n",
    "___"
   ]
  },
  {
   "cell_type": "code",
   "execution_count": 11,
   "metadata": {},
   "outputs": [],
   "source": [
    "model.y = np.array([-1, 55, 55, 44, 0, 45, 45, 36, 35, 35, 38, 38, 30, 0, 48, 48, 58, 57, 58])"
   ]
  },
  {
   "cell_type": "code",
   "execution_count": 12,
   "metadata": {},
   "outputs": [],
   "source": [
    "# k is the cost\n",
    "coeff = np.zeros((19))\n",
    "for i in range(1, 10):\n",
    "    coeff[i] = 225\n",
    "    coeff[9+i] = 310\n",
    "model.k = coeff"
   ]
  },
  {
   "cell_type": "markdown",
   "metadata": {},
   "source": [
    "## Objective\n",
    "___"
   ]
  },
  {
   "cell_type": "code",
   "execution_count": 27,
   "metadata": {
    "scrolled": true
   },
   "outputs": [],
   "source": [
    "def get_objective(model):\n",
    "    obj = sum(\n",
    "        model.k[i]*model.x[i] + model.k[i+9]*model.x[i+9] + \n",
    "        model.c[i]*500 + \n",
    "        (sum(model.x[k] - model.y[k] for k in range(1, i)) + 125)*225*0.195/52 +  \n",
    "        (sum(model.x[k+9] - model.y[k+9] for k in range(1, i)) + 143)* 310*0.195/52\n",
    "        for i in range(1, model.n)\n",
    "    )\n",
    "    return obj"
   ]
  },
  {
   "cell_type": "code",
   "execution_count": 28,
   "metadata": {
    "scrolled": false
   },
   "outputs": [
    {
     "name": "stdout",
     "output_type": "stream",
     "text": [
      "WARNING: Implicitly replacing the Component attribute OBJ (type=<class\n",
      "    'pyomo.core.base.objective.SimpleObjective'>) on block unknown with a new\n",
      "    Component (type=<class 'pyomo.core.base.objective.SimpleObjective'>). This\n",
      "    is usually indicative of a modelling error. To avoid this warning, use\n",
      "    block.del_component() and block.add_component().\n"
     ]
    }
   ],
   "source": [
    "model.OBJ = Objective(rule=get_objective)"
   ]
  },
  {
   "cell_type": "markdown",
   "metadata": {},
   "source": [
    "## Constraints\n",
    "___"
   ]
  },
  {
   "cell_type": "code",
   "execution_count": 15,
   "metadata": {},
   "outputs": [],
   "source": [
    "# Big-M value\n",
    "M = 10e5\n",
    "# Below constraings are called with I=1,..,9\n",
    "def maxConstraint1(model, i):\n",
    "    return model.m[i] >= model.x[i]\n",
    "def maxConstraint2(model, i):\n",
    "    return model.m[i] >= model.x[i+9]\n",
    "def maxConstraint3(model, i):\n",
    "    return model.m[i] <= model.x[i] + M*model.b[i]\n",
    "def maxConstraint4(model, i):\n",
    "    return model.m[i] <= model.x[i+9] + M*(1 - model.b[i])\n",
    "def maxConstraint5(model, i):\n",
    "    return model.m[i] == model.x[i] + model.x[i+9]"
   ]
  },
  {
   "cell_type": "code",
   "execution_count": 16,
   "metadata": {},
   "outputs": [],
   "source": [
    "# Upper bounds\n",
    "# Below constraings are called with I=1,..,9\n",
    "def ubConstraint1(model, i):\n",
    "    return model.x[i] <= 100\n",
    "def ubConstraint2(model, i):\n",
    "    return model.x[i+9] <= 80"
   ]
  },
  {
   "cell_type": "code",
   "execution_count": 17,
   "metadata": {},
   "outputs": [],
   "source": [
    "# Stock rules\n",
    "def stockConstraint1(model, i):\n",
    "    return sum(model.x[k] - model.y[k] for k in range(1, i)) + 125 >= model.x[i+1]\n",
    "def stockConstraint2(model, i):\n",
    "    return sum(model.x[k] - model.y[k] for k in range(10, i + 10)) + 143 >= model.x[10+i]"
   ]
  },
  {
   "cell_type": "code",
   "execution_count": 19,
   "metadata": {},
   "outputs": [],
   "source": [
    "# The below constraints set  c[i] = max{b[i], b[i-1]}\n",
    "# to be used only inside minimization objective\n",
    "def xorConstraint1(model, i):\n",
    "    if i==1:\n",
    "        # Take care of b[0] = 0\n",
    "        return model.c[i] >= model.b[i] - 0\n",
    "    return model.c[i] >= model.b[i] - model.b[i-1]\n",
    "def xorConstraint2(model, i):\n",
    "    if i==1:\n",
    "    # Take care of b[0] = 0\n",
    "        return model.c[i] >= -model.b[i]\n",
    "    return model.c[i] >= model.b[i-1] - model.b[i]"
   ]
  },
  {
   "cell_type": "code",
   "execution_count": 20,
   "metadata": {},
   "outputs": [],
   "source": [
    "model.maxConstraint1 = Constraint(model.II, rule=maxConstraint1)\n",
    "model.maxConstraint2 = Constraint(model.II, rule=maxConstraint2)\n",
    "model.maxConstraint3 = Constraint(model.II, rule=maxConstraint3)\n",
    "model.maxConstraint4 = Constraint(model.II, rule=maxConstraint4)\n",
    "model.maxConstraint5 = Constraint(model.II, rule=maxConstraint5)\n",
    "\n",
    "model.ubConstraint1 = Constraint(model.II, rule=ubConstraint1)\n",
    "model.ubConstraint2 = Constraint(model.II, rule=ubConstraint2)\n",
    "\n",
    "model.stockConstraint1 = Constraint(model.J, rule=stockConstraint1)\n",
    "model.stockConstraint2 = Constraint(model.J, rule=stockConstraint2)\n",
    "\n",
    "model.xorConstraint1 = Constraint(model.II, rule=xorConstraint1)\n",
    "model.corConstraint2 = Constraint(model.II, rule=xorConstraint2)"
   ]
  },
  {
   "cell_type": "code",
   "execution_count": null,
   "metadata": {},
   "outputs": [],
   "source": []
  }
 ],
 "metadata": {
  "kernelspec": {
   "display_name": "Python 3",
   "language": "python",
   "name": "python3"
  },
  "language_info": {
   "codemirror_mode": {
    "name": "ipython",
    "version": 3
   },
   "file_extension": ".py",
   "mimetype": "text/x-python",
   "name": "python",
   "nbconvert_exporter": "python",
   "pygments_lexer": "ipython3",
   "version": "3.5.3"
  }
 },
 "nbformat": 4,
 "nbformat_minor": 4
}
